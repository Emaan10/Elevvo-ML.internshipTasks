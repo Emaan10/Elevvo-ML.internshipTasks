{
  "nbformat": 4,
  "nbformat_minor": 0,
  "metadata": {
    "colab": {
      "provenance": [],
      "authorship_tag": "ABX9TyOpRGApYZJi3KWD5KdYORt3",
      "include_colab_link": true
    },
    "kernelspec": {
      "name": "python3",
      "display_name": "Python 3"
    },
    "language_info": {
      "name": "python"
    }
  },
  "cells": [
    {
      "cell_type": "markdown",
      "metadata": {
        "id": "view-in-github",
        "colab_type": "text"
      },
      "source": [
        "<a href=\"https://colab.research.google.com/github/Emaan10/Elevvo-ML.internshipTasks/blob/main/Movie%20Recommendation%20System/Elevvo_Task_5.ipynb\" target=\"_parent\"><img src=\"https://colab.research.google.com/assets/colab-badge.svg\" alt=\"Open In Colab\"/></a>"
      ]
    },
    {
      "cell_type": "code",
      "execution_count": null,
      "metadata": {
        "id": "_CJKAqvMM722"
      },
      "outputs": [],
      "source": [
        "import pandas as pd\n",
        "import numpy as np\n",
        "from sklearn.model_selection import train_test_split\n",
        "from sklearn.metrics.pairwise import cosine_similarity\n",
        "from scipy.sparse import csr_matrix\n",
        "from sklearn.decomposition import TruncatedSVD"
      ]
    },
    {
      "cell_type": "code",
      "source": [
        "import os\n",
        "os.environ['KAGGLE_USERNAME'] = \"emaankhaleeq\"\n",
        "os.environ['KAGGLE_KEY'] = \"a57bf46b5a7ebe66c37630bffe31992f\"\n",
        "!kaggle datasets list -s movielens"
      ],
      "metadata": {
        "colab": {
          "base_uri": "https://localhost:8080/"
        },
        "id": "yjedIS0kNHnh",
        "outputId": "64f5ac3e-6c91-414e-9052-d747b8ffd30b"
      },
      "execution_count": null,
      "outputs": [
        {
          "output_type": "stream",
          "name": "stdout",
          "text": [
            "ref                                                             title                                                  size  lastUpdated                 downloadCount  voteCount  usabilityRating  \n",
            "--------------------------------------------------------------  -----------------------------------------------  ----------  --------------------------  -------------  ---------  ---------------  \n",
            "grouplens/movielens-20m-dataset                                 MovieLens 20M Dataset                             204953792  2018-08-15 23:09:34.430000          82896        667  0.7058824        \n",
            "sherinclaudia/movielens                                         Movielens                                           6109178  2019-01-21 13:20:43.830000           7347         18  0.8125           \n",
            "prajitdatta/movielens-100k-dataset                              MovieLens 100K Dataset                              4998818  2017-01-05 12:37:32.947000          33019        220  0.625            \n",
            "ayushimishra2809/movielens-dataset                              Movielens dataset                                    896112  2020-03-29 07:03:55.390000           9103         44  0.64705884       \n",
            "snehal1409/movielens                                            MovieLens                                            932188  2018-01-17 08:00:51.163000           1475         14  0.61764705       \n",
            "rounakbanik/the-movies-dataset                                  The Movies Dataset                                238862293  2017-11-10 02:40:38.583000         422855       3785  0.8235294        \n",
            "jneupane12/movielens                                            MovieLens                                          12528088  2017-11-02 15:35:53.300000           4316         23  0.29411766       \n",
            "akkefa/movielens-9000-movies-dataset                            MovieLens 9000 Movies Dataset                        994099  2023-08-24 06:50:33.077000            891         19  0.9411765        \n",
            "amirmotefaker/movielens-10m-dataset-latest-version              MovieLens 10M Dataset (Latest Version)             67393808  2023-02-09 12:22:50.433000           1509         32  1.0              \n",
            "rajmehra03/movielens100k                                        MovieLens-100K                                      1776991  2018-10-31 12:02:19.633000           3989         24  0.3529412        \n",
            "odedgolden/movielens-1m-dataset                                 MovieLens 1M Dataset                                6111600  2021-01-23 19:34:54.127000           6102         29  0.375            \n",
            "garymk/movielens-25m-dataset                                    MovieLens 25M Dataset                             270043812  2021-09-13 10:06:57.447000           2154         15  0.5294118        \n",
            "abhikjha/movielens-100k                                         MovieLens 100k                                       994099  2019-09-26 03:47:40.413000           2495          7  0.5294118        \n",
            "patriciabrezeanu/movielens-full-25-million-recommendation-data  MovieLens full 25-million recommendation data 🎬   270043812  2023-04-15 05:58:33.100000            747         32  1.0              \n",
            "sriharshabsprasad/movielens-dataset-100k-ratings                MovieLens Dataset - 100K Ratings                     994099  2025-02-28 02:20:55.497000            717         27  0.88235295       \n",
            "sahilnbajaj/movielens-dataset                                   MovieLens Dataset                                    919208  2024-04-09 09:04:09.360000             68          9  1.0              \n",
            "pawelkauf/movielens-25m-ratings-1995-2019                       🎥 MovieLens Small: Ratings (1995-2019)               696323  2024-04-22 18:25:03.323000            320         32  1.0              \n",
            "sunilgautam/movielens                                           MovieLens                                            994099  2021-11-02 01:48:03.093000            180          5  0.5294118        \n",
            "veeralakrishna/movielens-25m-dataset                            MovieLens 25M Dataset                             270048414  2022-07-16 10:27:28.490000            416         13  0.875            \n",
            "grouplens/movielens-latest-small                                MovieLens Latest Small                               993937  2018-10-12 15:02:12.510000           2374         10  0.4117647        \n"
          ]
        }
      ]
    },
    {
      "cell_type": "code",
      "source": [
        "!kaggle datasets download -d prajitdatta/movielens-100k-dataset\n",
        "!unzip -o movielens-100k-dataset.zip -d movielens"
      ],
      "metadata": {
        "colab": {
          "base_uri": "https://localhost:8080/"
        },
        "id": "nocbCiQANU9N",
        "outputId": "8620f25a-712a-4127-a40b-4a0d6c94cd3e"
      },
      "execution_count": null,
      "outputs": [
        {
          "output_type": "stream",
          "name": "stdout",
          "text": [
            "Dataset URL: https://www.kaggle.com/datasets/prajitdatta/movielens-100k-dataset\n",
            "License(s): CC0-1.0\n",
            "movielens-100k-dataset.zip: Skipping, found more recently modified local copy (use --force to force download)\n",
            "Archive:  movielens-100k-dataset.zip\n",
            "  inflating: movielens/ml-100k/README  \n",
            "  inflating: movielens/ml-100k/allbut.pl  \n",
            "  inflating: movielens/ml-100k/mku.sh  \n",
            "  inflating: movielens/ml-100k/u.data  \n",
            "  inflating: movielens/ml-100k/u.genre  \n",
            "  inflating: movielens/ml-100k/u.info  \n",
            "  inflating: movielens/ml-100k/u.item  \n",
            "  inflating: movielens/ml-100k/u.occupation  \n",
            "  inflating: movielens/ml-100k/u.user  \n",
            "  inflating: movielens/ml-100k/u1.base  \n",
            "  inflating: movielens/ml-100k/u1.test  \n",
            "  inflating: movielens/ml-100k/u2.base  \n",
            "  inflating: movielens/ml-100k/u2.test  \n",
            "  inflating: movielens/ml-100k/u3.base  \n",
            "  inflating: movielens/ml-100k/u3.test  \n",
            "  inflating: movielens/ml-100k/u4.base  \n",
            "  inflating: movielens/ml-100k/u4.test  \n",
            "  inflating: movielens/ml-100k/u5.base  \n",
            "  inflating: movielens/ml-100k/u5.test  \n",
            "  inflating: movielens/ml-100k/ua.base  \n",
            "  inflating: movielens/ml-100k/ua.test  \n",
            "  inflating: movielens/ml-100k/ub.base  \n",
            "  inflating: movielens/ml-100k/ub.test  \n"
          ]
        }
      ]
    },
    {
      "cell_type": "code",
      "source": [
        "ratings = pd.read_csv(\n",
        "    \"movielens/ml-100k/u.data\",\n",
        "    sep=\"\\t\",\n",
        "    names=[\"userId\",\"movieId\",\"rating\",\"timestamp\"]\n",
        ")[[\"userId\",\"movieId\",\"rating\"]]\n",
        "\n",
        "movies = pd.read_csv(\n",
        "    \"movielens/ml-100k/u.item\",\n",
        "    sep=\"|\",\n",
        "    names=[\"movieId\", \"title\"] + [f\"col{i}\" for i in range(2,24)],\n",
        "    usecols=[0,1],\n",
        "    encoding=\"latin-1\"\n",
        ")\n",
        "movies.head()"
      ],
      "metadata": {
        "colab": {
          "base_uri": "https://localhost:8080/",
          "height": 206
        },
        "id": "HbkttI9zNdeJ",
        "outputId": "ea6b54b9-da06-45ee-d4e5-17990b1d0254"
      },
      "execution_count": null,
      "outputs": [
        {
          "output_type": "execute_result",
          "data": {
            "text/plain": [
              "   movieId              title\n",
              "0        1   Toy Story (1995)\n",
              "1        2   GoldenEye (1995)\n",
              "2        3  Four Rooms (1995)\n",
              "3        4  Get Shorty (1995)\n",
              "4        5     Copycat (1995)"
            ],
            "text/html": [
              "\n",
              "  <div id=\"df-97d92a0a-9281-4e7c-879d-8e1d15b4da02\" class=\"colab-df-container\">\n",
              "    <div>\n",
              "<style scoped>\n",
              "    .dataframe tbody tr th:only-of-type {\n",
              "        vertical-align: middle;\n",
              "    }\n",
              "\n",
              "    .dataframe tbody tr th {\n",
              "        vertical-align: top;\n",
              "    }\n",
              "\n",
              "    .dataframe thead th {\n",
              "        text-align: right;\n",
              "    }\n",
              "</style>\n",
              "<table border=\"1\" class=\"dataframe\">\n",
              "  <thead>\n",
              "    <tr style=\"text-align: right;\">\n",
              "      <th></th>\n",
              "      <th>movieId</th>\n",
              "      <th>title</th>\n",
              "    </tr>\n",
              "  </thead>\n",
              "  <tbody>\n",
              "    <tr>\n",
              "      <th>0</th>\n",
              "      <td>1</td>\n",
              "      <td>Toy Story (1995)</td>\n",
              "    </tr>\n",
              "    <tr>\n",
              "      <th>1</th>\n",
              "      <td>2</td>\n",
              "      <td>GoldenEye (1995)</td>\n",
              "    </tr>\n",
              "    <tr>\n",
              "      <th>2</th>\n",
              "      <td>3</td>\n",
              "      <td>Four Rooms (1995)</td>\n",
              "    </tr>\n",
              "    <tr>\n",
              "      <th>3</th>\n",
              "      <td>4</td>\n",
              "      <td>Get Shorty (1995)</td>\n",
              "    </tr>\n",
              "    <tr>\n",
              "      <th>4</th>\n",
              "      <td>5</td>\n",
              "      <td>Copycat (1995)</td>\n",
              "    </tr>\n",
              "  </tbody>\n",
              "</table>\n",
              "</div>\n",
              "    <div class=\"colab-df-buttons\">\n",
              "\n",
              "  <div class=\"colab-df-container\">\n",
              "    <button class=\"colab-df-convert\" onclick=\"convertToInteractive('df-97d92a0a-9281-4e7c-879d-8e1d15b4da02')\"\n",
              "            title=\"Convert this dataframe to an interactive table.\"\n",
              "            style=\"display:none;\">\n",
              "\n",
              "  <svg xmlns=\"http://www.w3.org/2000/svg\" height=\"24px\" viewBox=\"0 -960 960 960\">\n",
              "    <path d=\"M120-120v-720h720v720H120Zm60-500h600v-160H180v160Zm220 220h160v-160H400v160Zm0 220h160v-160H400v160ZM180-400h160v-160H180v160Zm440 0h160v-160H620v160ZM180-180h160v-160H180v160Zm440 0h160v-160H620v160Z\"/>\n",
              "  </svg>\n",
              "    </button>\n",
              "\n",
              "  <style>\n",
              "    .colab-df-container {\n",
              "      display:flex;\n",
              "      gap: 12px;\n",
              "    }\n",
              "\n",
              "    .colab-df-convert {\n",
              "      background-color: #E8F0FE;\n",
              "      border: none;\n",
              "      border-radius: 50%;\n",
              "      cursor: pointer;\n",
              "      display: none;\n",
              "      fill: #1967D2;\n",
              "      height: 32px;\n",
              "      padding: 0 0 0 0;\n",
              "      width: 32px;\n",
              "    }\n",
              "\n",
              "    .colab-df-convert:hover {\n",
              "      background-color: #E2EBFA;\n",
              "      box-shadow: 0px 1px 2px rgba(60, 64, 67, 0.3), 0px 1px 3px 1px rgba(60, 64, 67, 0.15);\n",
              "      fill: #174EA6;\n",
              "    }\n",
              "\n",
              "    .colab-df-buttons div {\n",
              "      margin-bottom: 4px;\n",
              "    }\n",
              "\n",
              "    [theme=dark] .colab-df-convert {\n",
              "      background-color: #3B4455;\n",
              "      fill: #D2E3FC;\n",
              "    }\n",
              "\n",
              "    [theme=dark] .colab-df-convert:hover {\n",
              "      background-color: #434B5C;\n",
              "      box-shadow: 0px 1px 3px 1px rgba(0, 0, 0, 0.15);\n",
              "      filter: drop-shadow(0px 1px 2px rgba(0, 0, 0, 0.3));\n",
              "      fill: #FFFFFF;\n",
              "    }\n",
              "  </style>\n",
              "\n",
              "    <script>\n",
              "      const buttonEl =\n",
              "        document.querySelector('#df-97d92a0a-9281-4e7c-879d-8e1d15b4da02 button.colab-df-convert');\n",
              "      buttonEl.style.display =\n",
              "        google.colab.kernel.accessAllowed ? 'block' : 'none';\n",
              "\n",
              "      async function convertToInteractive(key) {\n",
              "        const element = document.querySelector('#df-97d92a0a-9281-4e7c-879d-8e1d15b4da02');\n",
              "        const dataTable =\n",
              "          await google.colab.kernel.invokeFunction('convertToInteractive',\n",
              "                                                    [key], {});\n",
              "        if (!dataTable) return;\n",
              "\n",
              "        const docLinkHtml = 'Like what you see? Visit the ' +\n",
              "          '<a target=\"_blank\" href=https://colab.research.google.com/notebooks/data_table.ipynb>data table notebook</a>'\n",
              "          + ' to learn more about interactive tables.';\n",
              "        element.innerHTML = '';\n",
              "        dataTable['output_type'] = 'display_data';\n",
              "        await google.colab.output.renderOutput(dataTable, element);\n",
              "        const docLink = document.createElement('div');\n",
              "        docLink.innerHTML = docLinkHtml;\n",
              "        element.appendChild(docLink);\n",
              "      }\n",
              "    </script>\n",
              "  </div>\n",
              "\n",
              "\n",
              "    <div id=\"df-6db091a6-bc3d-494b-87d8-2dbc383d0a70\">\n",
              "      <button class=\"colab-df-quickchart\" onclick=\"quickchart('df-6db091a6-bc3d-494b-87d8-2dbc383d0a70')\"\n",
              "                title=\"Suggest charts\"\n",
              "                style=\"display:none;\">\n",
              "\n",
              "<svg xmlns=\"http://www.w3.org/2000/svg\" height=\"24px\"viewBox=\"0 0 24 24\"\n",
              "     width=\"24px\">\n",
              "    <g>\n",
              "        <path d=\"M19 3H5c-1.1 0-2 .9-2 2v14c0 1.1.9 2 2 2h14c1.1 0 2-.9 2-2V5c0-1.1-.9-2-2-2zM9 17H7v-7h2v7zm4 0h-2V7h2v10zm4 0h-2v-4h2v4z\"/>\n",
              "    </g>\n",
              "</svg>\n",
              "      </button>\n",
              "\n",
              "<style>\n",
              "  .colab-df-quickchart {\n",
              "      --bg-color: #E8F0FE;\n",
              "      --fill-color: #1967D2;\n",
              "      --hover-bg-color: #E2EBFA;\n",
              "      --hover-fill-color: #174EA6;\n",
              "      --disabled-fill-color: #AAA;\n",
              "      --disabled-bg-color: #DDD;\n",
              "  }\n",
              "\n",
              "  [theme=dark] .colab-df-quickchart {\n",
              "      --bg-color: #3B4455;\n",
              "      --fill-color: #D2E3FC;\n",
              "      --hover-bg-color: #434B5C;\n",
              "      --hover-fill-color: #FFFFFF;\n",
              "      --disabled-bg-color: #3B4455;\n",
              "      --disabled-fill-color: #666;\n",
              "  }\n",
              "\n",
              "  .colab-df-quickchart {\n",
              "    background-color: var(--bg-color);\n",
              "    border: none;\n",
              "    border-radius: 50%;\n",
              "    cursor: pointer;\n",
              "    display: none;\n",
              "    fill: var(--fill-color);\n",
              "    height: 32px;\n",
              "    padding: 0;\n",
              "    width: 32px;\n",
              "  }\n",
              "\n",
              "  .colab-df-quickchart:hover {\n",
              "    background-color: var(--hover-bg-color);\n",
              "    box-shadow: 0 1px 2px rgba(60, 64, 67, 0.3), 0 1px 3px 1px rgba(60, 64, 67, 0.15);\n",
              "    fill: var(--button-hover-fill-color);\n",
              "  }\n",
              "\n",
              "  .colab-df-quickchart-complete:disabled,\n",
              "  .colab-df-quickchart-complete:disabled:hover {\n",
              "    background-color: var(--disabled-bg-color);\n",
              "    fill: var(--disabled-fill-color);\n",
              "    box-shadow: none;\n",
              "  }\n",
              "\n",
              "  .colab-df-spinner {\n",
              "    border: 2px solid var(--fill-color);\n",
              "    border-color: transparent;\n",
              "    border-bottom-color: var(--fill-color);\n",
              "    animation:\n",
              "      spin 1s steps(1) infinite;\n",
              "  }\n",
              "\n",
              "  @keyframes spin {\n",
              "    0% {\n",
              "      border-color: transparent;\n",
              "      border-bottom-color: var(--fill-color);\n",
              "      border-left-color: var(--fill-color);\n",
              "    }\n",
              "    20% {\n",
              "      border-color: transparent;\n",
              "      border-left-color: var(--fill-color);\n",
              "      border-top-color: var(--fill-color);\n",
              "    }\n",
              "    30% {\n",
              "      border-color: transparent;\n",
              "      border-left-color: var(--fill-color);\n",
              "      border-top-color: var(--fill-color);\n",
              "      border-right-color: var(--fill-color);\n",
              "    }\n",
              "    40% {\n",
              "      border-color: transparent;\n",
              "      border-right-color: var(--fill-color);\n",
              "      border-top-color: var(--fill-color);\n",
              "    }\n",
              "    60% {\n",
              "      border-color: transparent;\n",
              "      border-right-color: var(--fill-color);\n",
              "    }\n",
              "    80% {\n",
              "      border-color: transparent;\n",
              "      border-right-color: var(--fill-color);\n",
              "      border-bottom-color: var(--fill-color);\n",
              "    }\n",
              "    90% {\n",
              "      border-color: transparent;\n",
              "      border-bottom-color: var(--fill-color);\n",
              "    }\n",
              "  }\n",
              "</style>\n",
              "\n",
              "      <script>\n",
              "        async function quickchart(key) {\n",
              "          const quickchartButtonEl =\n",
              "            document.querySelector('#' + key + ' button');\n",
              "          quickchartButtonEl.disabled = true;  // To prevent multiple clicks.\n",
              "          quickchartButtonEl.classList.add('colab-df-spinner');\n",
              "          try {\n",
              "            const charts = await google.colab.kernel.invokeFunction(\n",
              "                'suggestCharts', [key], {});\n",
              "          } catch (error) {\n",
              "            console.error('Error during call to suggestCharts:', error);\n",
              "          }\n",
              "          quickchartButtonEl.classList.remove('colab-df-spinner');\n",
              "          quickchartButtonEl.classList.add('colab-df-quickchart-complete');\n",
              "        }\n",
              "        (() => {\n",
              "          let quickchartButtonEl =\n",
              "            document.querySelector('#df-6db091a6-bc3d-494b-87d8-2dbc383d0a70 button');\n",
              "          quickchartButtonEl.style.display =\n",
              "            google.colab.kernel.accessAllowed ? 'block' : 'none';\n",
              "        })();\n",
              "      </script>\n",
              "    </div>\n",
              "\n",
              "    </div>\n",
              "  </div>\n"
            ],
            "application/vnd.google.colaboratory.intrinsic+json": {
              "type": "dataframe",
              "variable_name": "movies",
              "summary": "{\n  \"name\": \"movies\",\n  \"rows\": 1682,\n  \"fields\": [\n    {\n      \"column\": \"movieId\",\n      \"properties\": {\n        \"dtype\": \"number\",\n        \"std\": 485,\n        \"min\": 1,\n        \"max\": 1682,\n        \"num_unique_values\": 1682,\n        \"samples\": [\n          1394,\n          744,\n          1606\n        ],\n        \"semantic_type\": \"\",\n        \"description\": \"\"\n      }\n    },\n    {\n      \"column\": \"title\",\n      \"properties\": {\n        \"dtype\": \"string\",\n        \"num_unique_values\": 1664,\n        \"samples\": [\n          \"Madame Butterfly (1995)\",\n          \"Wrong Trousers, The (1993)\",\n          \"Breaking the Waves (1996)\"\n        ],\n        \"semantic_type\": \"\",\n        \"description\": \"\"\n      }\n    }\n  ]\n}"
            }
          },
          "metadata": {},
          "execution_count": 26
        }
      ]
    },
    {
      "cell_type": "markdown",
      "source": [
        "Train/Test Split"
      ],
      "metadata": {
        "id": "y43bVw0RZCCn"
      }
    },
    {
      "cell_type": "code",
      "source": [
        "train, test = train_test_split(ratings, test_size=0.2, random_state=42)\n",
        "\n",
        "# filter cold-start users & movies\n",
        "test = test[test[\"userId\"].isin(train[\"userId\"].unique())]\n",
        "test = test[test[\"movieId\"].isin(train[\"movieId\"].unique())]\n",
        "\n",
        "print(\"Train shape:\", train.shape)\n",
        "print(\"Test shape:\", test.shape)"
      ],
      "metadata": {
        "colab": {
          "base_uri": "https://localhost:8080/"
        },
        "id": "sVrDW0IBNglq",
        "outputId": "993f0632-4c1f-4a6d-f579-7a12b580119a"
      },
      "execution_count": null,
      "outputs": [
        {
          "output_type": "stream",
          "name": "stdout",
          "text": [
            "Train shape: (80000, 3)\n",
            "Test shape: (19969, 3)\n"
          ]
        }
      ]
    },
    {
      "cell_type": "markdown",
      "source": [
        "User-Item Matrix (Train only)"
      ],
      "metadata": {
        "id": "B4wxD21aZMBm"
      }
    },
    {
      "cell_type": "code",
      "source": [
        "user_item_matrix = train.pivot_table(\n",
        "    index=\"userId\", columns=\"movieId\", values=\"rating\"\n",
        ").fillna(0)\n",
        "\n",
        "R = csr_matrix(user_item_matrix.values)\n",
        "user_ids = user_item_matrix.index\n",
        "movie_ids = user_item_matrix.columns\n",
        "\n",
        "print(\"User-item matrix shape:\", user_item_matrix.shape)"
      ],
      "metadata": {
        "colab": {
          "base_uri": "https://localhost:8080/"
        },
        "id": "SI-YYZhRNtNH",
        "outputId": "a8ceb2ed-0aa1-4b8e-e3a8-cb219a1016a8"
      },
      "execution_count": null,
      "outputs": [
        {
          "output_type": "stream",
          "name": "stdout",
          "text": [
            "User-item matrix shape: (943, 1653)\n"
          ]
        }
      ]
    },
    {
      "cell_type": "markdown",
      "source": [
        "Similarity Matrices"
      ],
      "metadata": {
        "id": "0C2yRuwXZbkY"
      }
    },
    {
      "cell_type": "code",
      "source": [
        "user_similarity = cosine_similarity(user_item_matrix)\n",
        "item_similarity = cosine_similarity(user_item_matrix.T)\n",
        "\n",
        "user_sim_df = pd.DataFrame(user_similarity, index=user_ids, columns=user_ids)\n",
        "item_sim_df = pd.DataFrame(item_similarity, index=movie_ids, columns=movie_ids)"
      ],
      "metadata": {
        "id": "FBgRn7CkN12V"
      },
      "execution_count": null,
      "outputs": []
    },
    {
      "cell_type": "markdown",
      "source": [
        "Recommendation Functions"
      ],
      "metadata": {
        "id": "J-7w5FwgZhBl"
      }
    },
    {
      "cell_type": "code",
      "source": [
        "def recommend_user_based(user_id, k=5):\n",
        "    if user_id not in user_item_matrix.index:\n",
        "        return []\n",
        "    user_ratings = user_item_matrix.loc[user_id]\n",
        "    seen_movies = set(user_ratings[user_ratings > 0].index)\n",
        "\n",
        "    # find similar users\n",
        "    similar_users = user_sim_df[user_id].drop(user_id).sort_values(ascending=False).head(20).index\n",
        "    sim_scores = user_sim_df.loc[user_id, similar_users]\n",
        "\n",
        "    # weighted average of ratings\n",
        "    scores = {}\n",
        "    for other in similar_users:\n",
        "        weight = sim_scores[other]\n",
        "        for movie, rating in user_item_matrix.loc[other].items():\n",
        "            if movie not in seen_movies and rating > 0:\n",
        "                scores[movie] = scores.get(movie, 0) + weight * rating\n",
        "\n",
        "    ranked = sorted(scores.items(), key=lambda x: x[1], reverse=True)\n",
        "    return [m for m, _ in ranked[:k]]\n",
        "\n",
        "def recommend_item_based(user_id, k=5):\n",
        "    if user_id not in user_item_matrix.index:\n",
        "        return []\n",
        "    user_ratings = user_item_matrix.loc[user_id]\n",
        "    seen_movies = set(user_ratings[user_ratings > 0].index)\n",
        "\n",
        "    scores = {}\n",
        "    for movie, rating in user_ratings.items():\n",
        "        if rating > 0:\n",
        "            similar_movies = item_sim_df[movie].sort_values(ascending=False).head(20).index\n",
        "            for sm in similar_movies:\n",
        "                if sm not in seen_movies:\n",
        "                    scores[sm] = scores.get(sm, 0) + rating * item_sim_df.loc[movie, sm]\n",
        "\n",
        "    ranked = sorted(scores.items(), key=lambda x: x[1], reverse=True)\n",
        "    return [m for m, _ in ranked[:k]]\n",
        "\n",
        "def recommend_svd(user_id, k=5):\n",
        "    if user_id not in user_item_matrix.index:\n",
        "        return []\n",
        "    svd = TruncatedSVD(n_components=20, random_state=42)\n",
        "    latent_matrix = svd.fit_transform(R)\n",
        "    reconstructed = np.dot(latent_matrix, svd.components_)\n",
        "    user_index = user_item_matrix.index.get_loc(user_id)\n",
        "    scores = reconstructed[user_index]\n",
        "\n",
        "    seen_movies = set(user_item_matrix.loc[user_id][user_item_matrix.loc[user_id] > 0].index)\n",
        "    movie_score_pairs = [(movie_ids[i], score) for i, score in enumerate(scores) if movie_ids[i] not in seen_movies]\n",
        "    ranked = sorted(movie_score_pairs, key=lambda x: x[1], reverse=True)\n",
        "    return [m for m, _ in ranked[:k]]"
      ],
      "metadata": {
        "id": "qbpXjiChN7KZ"
      },
      "execution_count": null,
      "outputs": []
    },
    {
      "cell_type": "markdown",
      "source": [
        " Precision@K"
      ],
      "metadata": {
        "id": "47halE4AZtJY"
      }
    },
    {
      "cell_type": "code",
      "source": [
        "def precision_at_k(user_id, rec_movie_ids, test_df, k=5, threshold=3):\n",
        "    actual = set(test_df[(test_df[\"userId\"] == user_id) &\n",
        "                         (test_df[\"rating\"] >= threshold)][\"movieId\"])\n",
        "    if not actual:  # no relevant items in test\n",
        "        return None\n",
        "    hits = sum([1 for r in rec_movie_ids if r in actual])\n",
        "    return hits / k"
      ],
      "metadata": {
        "id": "t3x6crrjOCKz"
      },
      "execution_count": null,
      "outputs": []
    },
    {
      "cell_type": "markdown",
      "source": [
        " Evaluation"
      ],
      "metadata": {
        "id": "_LVv2JzzZ2rs"
      }
    },
    {
      "cell_type": "code",
      "source": [
        "results = []\n",
        "\n",
        "for user_id in test[\"userId\"].unique()[:50]:  # first 50 users for demo\n",
        "    rec_user = recommend_user_based(user_id, k=5)\n",
        "    rec_item = recommend_item_based(user_id, k=5)\n",
        "    rec_svd = recommend_svd(user_id, k=5)\n",
        "\n",
        "    p_user = precision_at_k(user_id, rec_user, test, k=5)\n",
        "    p_item = precision_at_k(user_id, rec_item, test, k=5)\n",
        "    p_svd = precision_at_k(user_id, rec_svd, test, k=5)\n",
        "\n",
        "    results.append([\n",
        "        user_id,\n",
        "        [movies.set_index(\"movieId\").loc[m, \"title\"] for m in rec_user if m in movies.set_index(\"movieId\").index],\n",
        "        p_user,\n",
        "        [movies.set_index(\"movieId\").loc[m, \"title\"] for m in rec_item if m in movies.set_index(\"movieId\").index],\n",
        "        p_item,\n",
        "        [movies.set_index(\"movieId\").loc[m, \"title\"] for m in rec_svd if m in movies.set_index(\"movieId\").index],\n",
        "        p_svd\n",
        "    ])\n",
        "\n",
        "results_df = pd.DataFrame(results, columns=[\n",
        "    \"userId\",\n",
        "    \"User-based Recommendations\", \"User-based Precision@5\",\n",
        "    \"Item-based Recommendations\", \"Item-based Precision@5\",\n",
        "    \"SVD Recommendations\", \"SVD Precision@5\"\n",
        "])\n",
        "\n",
        "print(\"\\nPrecision@5 Comparison Table (first 10 users):\")\n",
        "print(results_df.head(10))\n",
        "\n",
        "print(\"\\nMean Precision@5:\")\n",
        "print(\"User-based:\", np.nanmean(results_df[\"User-based Precision@5\"]))\n",
        "print(\"Item-based:\", np.nanmean(results_df[\"Item-based Precision@5\"]))\n",
        "print(\"SVD:\", np.nanmean(results_df[\"SVD Precision@5\"]))"
      ],
      "metadata": {
        "colab": {
          "base_uri": "https://localhost:8080/"
        },
        "id": "Ccrv4NyROJ7M",
        "outputId": "0db9986a-72d5-4d46-a71a-d4ab319d243d"
      },
      "execution_count": null,
      "outputs": [
        {
          "output_type": "stream",
          "name": "stdout",
          "text": [
            "\n",
            "Precision@5 Comparison Table (first 10 users):\n",
            "   userId                         User-based Recommendations  \\\n",
            "0     877  [Pulp Fiction (1994), Star Wars (1977), Raider...   \n",
            "1     815  [Silence of the Lambs, The (1991), Jaws (1975)...   \n",
            "2      94  [Empire Strikes Back, The (1980), Shawshank Re...   \n",
            "3     416  [Usual Suspects, The (1995), Star Wars (1977),...   \n",
            "4     500  [Silence of the Lambs, The (1991), Fargo (1996...   \n",
            "5     259  [Fargo (1996), Pulp Fiction (1994), Reservoir ...   \n",
            "6     598  [Titanic (1997), English Patient, The (1996), ...   \n",
            "7     886  [Princess Bride, The (1987), Empire Strikes Ba...   \n",
            "8     837  [Fargo (1996), Independence Day (ID4) (1996), ...   \n",
            "9     521  [Braveheart (1995), Silence of the Lambs, The ...   \n",
            "\n",
            "   User-based Precision@5                         Item-based Recommendations  \\\n",
            "0                     0.2  [Raiders of the Lost Ark (1981), Indiana Jones...   \n",
            "1                     0.2  [Silence of the Lambs, The (1991), Pulp Fictio...   \n",
            "2                     1.0  [Terminator, The (1984), E.T. the Extra-Terres...   \n",
            "3                     1.0  [Monty Python and the Holy Grail (1974), Empir...   \n",
            "4                     0.4  [Silence of the Lambs, The (1991), Raiders of ...   \n",
            "5                     0.2  [Pulp Fiction (1994), Raiders of the Lost Ark ...   \n",
            "6                     0.4  [Titanic (1997), Conspiracy Theory (1997), Eng...   \n",
            "7                     0.6  [Indiana Jones and the Last Crusade (1989), Em...   \n",
            "8                     0.0  [Independence Day (ID4) (1996), Toy Story (199...   \n",
            "9                     0.6  [Silence of the Lambs, The (1991), Jurassic Pa...   \n",
            "\n",
            "   Item-based Precision@5                                SVD Recommendations  \\\n",
            "0                     0.2  [Alien (1979), Scream (1996), Four Weddings an...   \n",
            "1                     0.2  [Casablanca (1942), Silence of the Lambs, The ...   \n",
            "2                     1.0  [Reservoir Dogs (1992), Ed Wood (1994), Shawsh...   \n",
            "3                     0.8  [Mrs. Doubtfire (1993), Jerry Maguire (1996), ...   \n",
            "4                     0.8  [Mr. Holland's Opus (1995), Willy Wonka and th...   \n",
            "5                     0.0  [Pulp Fiction (1994), Twelve Monkeys (1995), S...   \n",
            "6                     0.4  [Conspiracy Theory (1997), Liar Liar (1997), T...   \n",
            "7                     0.4  [GoodFellas (1990), Princess Bride, The (1987)...   \n",
            "8                     0.0  [Mr. Holland's Opus (1995), Toy Story (1995), ...   \n",
            "9                     0.6  [Princess Bride, The (1987), Hunt for Red Octo...   \n",
            "\n",
            "   SVD Precision@5  \n",
            "0              0.6  \n",
            "1              0.8  \n",
            "2              1.0  \n",
            "3              0.8  \n",
            "4              0.2  \n",
            "5              0.0  \n",
            "6              0.4  \n",
            "7              0.6  \n",
            "8              0.2  \n",
            "9              0.6  \n",
            "\n",
            "Mean Precision@5:\n",
            "User-based: 0.532\n",
            "Item-based: 0.46799999999999997\n",
            "SVD: 0.5760000000000001\n"
          ]
        }
      ]
    }
  ]
}